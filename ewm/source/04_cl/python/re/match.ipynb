{
 "cells": [
  {
   "attachments": {},
   "cell_type": "markdown",
   "metadata": {},
   "source": [
    "# Match"
   ]
  },
  {
   "cell_type": "code",
   "execution_count": 1,
   "metadata": {},
   "outputs": [],
   "source": [
    "import re"
   ]
  },
  {
   "cell_type": "code",
   "execution_count": 2,
   "metadata": {},
   "outputs": [],
   "source": [
    "line = \"Hello 123. I am here to help 456 you\""
   ]
  },
  {
   "cell_type": "code",
   "execution_count": 3,
   "metadata": {},
   "outputs": [
    {
     "name": "stdout",
     "output_type": "stream",
     "text": [
      "None\n"
     ]
    }
   ],
   "source": [
    "rv = re.match(\"Hello (?P<a>\\d+) UNPEXPECTED\", line)\n",
    "print(rv)"
   ]
  },
  {
   "cell_type": "code",
   "execution_count": 4,
   "metadata": {},
   "outputs": [
    {
     "name": "stdout",
     "output_type": "stream",
     "text": [
      "<re.Match object; span=(0, 36), match='Hello 123. I am here to help 456 you'>\n",
      "('123', '456', 'you')\n",
      "123\n",
      "456\n",
      "you\n"
     ]
    }
   ],
   "source": [
    "rv = re.match(\"Hello (?P<a>\\d+). I am here to help (?P<b>\\d+) (?P<c>\\w+)\", line)\n",
    "if rv:\n",
    "    print(rv)\n",
    "    print(rv.groups())\n",
    "    print(rv.group(\"a\"))\n",
    "    print(rv.group(\"b\"))\n",
    "    print(rv.group(\"c\"))"
   ]
  },
  {
   "cell_type": "code",
   "execution_count": 5,
   "metadata": {},
   "outputs": [
    {
     "name": "stdout",
     "output_type": "stream",
     "text": [
      "<re.Match object; span=(0, 36), match='Hello 123. I am here to help 456 you'>\n",
      "('123', 'here', '456', 'you')\n",
      "123\n",
      "456\n",
      "you\n"
     ]
    }
   ],
   "source": [
    "rv = re.match(\"Hello (?P<a>\\d+). I (\\w+ ?)* to help (?P<b>\\d+) (?P<c>\\w+)\", line)\n",
    "if rv:\n",
    "    print(rv)\n",
    "    print(rv.groups())\n",
    "    print(rv.group(\"a\"))\n",
    "    print(rv.group(\"b\"))\n",
    "    print(rv.group(\"c\"))"
   ]
  }
 ],
 "metadata": {
  "kernelspec": {
   "display_name": "Python 3",
   "language": "python",
   "name": "python3"
  },
  "language_info": {
   "codemirror_mode": {
    "name": "ipython",
    "version": 3
   },
   "file_extension": ".py",
   "mimetype": "text/x-python",
   "name": "python",
   "nbconvert_exporter": "python",
   "pygments_lexer": "ipython3",
   "version": "3.10.6"
  },
  "orig_nbformat": 4
 },
 "nbformat": 4,
 "nbformat_minor": 2
}

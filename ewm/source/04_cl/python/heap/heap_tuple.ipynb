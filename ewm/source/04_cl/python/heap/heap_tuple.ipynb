{
 "cells": [
  {
   "attachments": {},
   "cell_type": "markdown",
   "metadata": {},
   "source": [
    "# Heap with tuple element\n",
    "\n",
    "According to the heapq documentation, the way to customize the heap order is to have each element on the heap to be a tuple, with the first tuple element being one that accepts normal Python comparisons."
   ]
  },
  {
   "cell_type": "code",
   "execution_count": 1,
   "metadata": {},
   "outputs": [],
   "source": [
    "import heapq"
   ]
  },
  {
   "cell_type": "code",
   "execution_count": 2,
   "metadata": {},
   "outputs": [],
   "source": [
    "li = [(5, (1,1)), (7, (2,2)), (9, (3,3)), (1, (4,4)), (3, (5,5))]"
   ]
  },
  {
   "cell_type": "code",
   "execution_count": 3,
   "metadata": {},
   "outputs": [
    {
     "name": "stdout",
     "output_type": "stream",
     "text": [
      "The created heap is :  [(1, (4, 4)), (3, (5, 5)), (9, (3, 3)), (7, (2, 2)), (5, (1, 1))]\n"
     ]
    }
   ],
   "source": [
    "# using heapify to convert list into heap\n",
    "heapq.heapify(li)\n",
    "# printing created heap\n",
    "print (\"The created heap is : \", (list(li)))"
   ]
  },
  {
   "cell_type": "code",
   "execution_count": 4,
   "metadata": {},
   "outputs": [
    {
     "name": "stdout",
     "output_type": "stream",
     "text": [
      "[(1, (4, 4)), (3, (5, 5)), (4, (6, 6)), (7, (2, 2)), (5, (1, 1)), (9, (3, 3))]\n"
     ]
    }
   ],
   "source": [
    "heapq.heappush(li, (4, (6,6)))\n",
    "print(list(li))"
   ]
  },
  {
   "cell_type": "code",
   "execution_count": 5,
   "metadata": {},
   "outputs": [
    {
     "name": "stdout",
     "output_type": "stream",
     "text": [
      "Pop min: (1, (4, 4))\n",
      "Remain : [(3, (5, 5)), (5, (1, 1)), (4, (6, 6)), (7, (2, 2)), (9, (3, 3))]\n",
      "Pop min: (3, (5, 5))\n",
      "Remain : [(4, (6, 6)), (5, (1, 1)), (9, (3, 3)), (7, (2, 2))]\n",
      "Pop min: (4, (6, 6))\n",
      "Remain : [(5, (1, 1)), (7, (2, 2)), (9, (3, 3))]\n",
      "Pop min: (5, (1, 1))\n",
      "Remain : [(7, (2, 2)), (9, (3, 3))]\n",
      "Pop min: (7, (2, 2))\n",
      "Remain : [(9, (3, 3))]\n",
      "Pop min: (9, (3, 3))\n",
      "Remain : []\n"
     ]
    }
   ],
   "source": [
    "for i in range(len(li)):\n",
    "    min = heapq.heappop(li)\n",
    "    print(\"Pop min:\", min)\n",
    "    print(\"Remain :\", list(li))"
   ]
  },
  {
   "cell_type": "code",
   "execution_count": 6,
   "metadata": {},
   "outputs": [
    {
     "name": "stdout",
     "output_type": "stream",
     "text": [
      "Pop min: (1, (2, 2))\n",
      "Pop min: (1, (5, 5))\n",
      "Pop min: (1, (5, 5))\n",
      "Pop min: (2, (4, 4))\n",
      "Pop min: (3, (5, 5))\n"
     ]
    }
   ],
   "source": [
    "li = [(1, (5,5)), (1, (2,2)), (1, (5,5)), (2, (4,4)), (3, (5,5))]\n",
    "heapq.heapify(li)\n",
    "for i in range(len(li)):\n",
    "    min = heapq.heappop(li)\n",
    "    print(\"Pop min:\", min)\n",
    "    # print(\"Remain :\", list(li))"
   ]
  }
 ],
 "metadata": {
  "kernelspec": {
   "display_name": "Python 3",
   "language": "python",
   "name": "python3"
  },
  "language_info": {
   "codemirror_mode": {
    "name": "ipython",
    "version": 3
   },
   "file_extension": ".py",
   "mimetype": "text/x-python",
   "name": "python",
   "nbconvert_exporter": "python",
   "pygments_lexer": "ipython3",
   "version": "3.10.6"
  },
  "orig_nbformat": 4
 },
 "nbformat": 4,
 "nbformat_minor": 2
}

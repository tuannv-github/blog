{
 "cells": [
  {
   "attachments": {},
   "cell_type": "markdown",
   "metadata": {},
   "source": [
    "# Heap"
   ]
  },
  {
   "cell_type": "code",
   "execution_count": 1,
   "metadata": {},
   "outputs": [],
   "source": [
    "import heapq"
   ]
  },
  {
   "cell_type": "code",
   "execution_count": 2,
   "metadata": {},
   "outputs": [
    {
     "name": "stdout",
     "output_type": "stream",
     "text": [
      "The created heap is :  [1, 3, 9, 7, 5]\n"
     ]
    }
   ],
   "source": [
    "li = [5, 7, 9, 1, 3]\n",
    "\n",
    "# using heapify to convert list into heap\n",
    "heapq.heapify(li)\n",
    "# printing created heap\n",
    "print (\"The created heap is : \", (list(li)))"
   ]
  },
  {
   "cell_type": "code",
   "execution_count": 3,
   "metadata": {},
   "outputs": [
    {
     "name": "stdout",
     "output_type": "stream",
     "text": [
      "[1, 3, 4, 7, 5, 9]\n"
     ]
    }
   ],
   "source": [
    "heapq.heappush(li, 4)\n",
    "print(list(li))"
   ]
  },
  {
   "cell_type": "code",
   "execution_count": 4,
   "metadata": {},
   "outputs": [
    {
     "name": "stdout",
     "output_type": "stream",
     "text": [
      "Pop min: 1\n",
      "Remain : [3, 5, 4, 7, 9]\n",
      "Pop min: 3\n",
      "Remain : [4, 5, 9, 7]\n",
      "Pop min: 4\n",
      "Remain : [5, 7, 9]\n",
      "Pop min: 5\n",
      "Remain : [7, 9]\n",
      "Pop min: 7\n",
      "Remain : [9]\n",
      "Pop min: 9\n",
      "Remain : []\n"
     ]
    }
   ],
   "source": [
    "for i in range(len(li)):\n",
    "    min = heapq.heappop(li)\n",
    "    print(\"Pop min: %d\" % min)\n",
    "    print(\"Remain :\", list(li))"
   ]
  }
 ],
 "metadata": {
  "kernelspec": {
   "display_name": "Python 3",
   "language": "python",
   "name": "python3"
  },
  "language_info": {
   "codemirror_mode": {
    "name": "ipython",
    "version": 3
   },
   "file_extension": ".py",
   "mimetype": "text/x-python",
   "name": "python",
   "nbconvert_exporter": "python",
   "pygments_lexer": "ipython3",
   "version": "3.10.6"
  },
  "orig_nbformat": 4
 },
 "nbformat": 4,
 "nbformat_minor": 2
}

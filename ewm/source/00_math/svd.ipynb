{
 "cells": [
  {
   "attachments": {},
   "cell_type": "markdown",
   "metadata": {},
   "source": [
    "# Singular value decomposition"
   ]
  },
  {
   "attachments": {},
   "cell_type": "markdown",
   "metadata": {},
   "source": [
    "## Equations\n",
    "\n",
    "\\begin{equation}\n",
    "\\mathbf{A} = \\mathbf{P} \\mathbf{D} \\mathbf{P}^{-1}\n",
    "\\end{equation}\n",
    "\n",
    "\\begin{equation}\n",
    "\\mathbf{AP} = \\mathbf{PD}\n",
    "\\end{equation}\n",
    "\n",
    "\\begin{equation}\n",
    "\\mathbf{Ap}_i = \\mathbf{Pd}_i = d_{ii}\\mathbf{p}_i\n",
    "\\end{equation}\n",
    "\n",
    "\\begin{equation}\n",
    "\\mathbf{Ax} = \\lambda \\mathbf{x}\n",
    "\\end{equation}\n",
    "\n",
    "\\begin{equation}\n",
    "\\mathbf{A}_{m \\times n} = \\mathbf{U}_{m \\times m}\\mathbf{\\Sigma}_{m \\times n} (\\mathbf{V}_{n \\times n})^T\n",
    "\\end{equation}"
   ]
  },
  {
   "attachments": {},
   "cell_type": "markdown",
   "metadata": {},
   "source": [
    "## SVD Example"
   ]
  },
  {
   "cell_type": "code",
   "execution_count": 1,
   "metadata": {},
   "outputs": [],
   "source": [
    "import numpy as np\n",
    "from numpy import linalg"
   ]
  },
  {
   "cell_type": "code",
   "execution_count": 2,
   "metadata": {},
   "outputs": [
    {
     "name": "stdout",
     "output_type": "stream",
     "text": [
      "[[59 58 63]\n",
      " [69 82 40]]\n"
     ]
    }
   ],
   "source": [
    "dim = (2, 3)\n",
    "A = np.random.randint(100, size=dim)\n",
    "print(A)"
   ]
  },
  {
   "cell_type": "code",
   "execution_count": 3,
   "metadata": {},
   "outputs": [
    {
     "name": "stdout",
     "output_type": "stream",
     "text": [
      "-------\n",
      "[[-0.67097944 -0.74147595]\n",
      " [-0.74147595  0.67097944]]\n",
      "-------\n",
      "[152.81745155  23.36293008]\n",
      "-------\n",
      "[[-0.59384335 -0.65252911 -0.47069718]\n",
      " [ 0.10916868  0.51426379 -0.8506556 ]\n",
      " [-0.79714006  0.55654157  0.23415639]]\n"
     ]
    }
   ],
   "source": [
    "U, S, V_T = linalg.svd(A)\n",
    "print(\"-------\")\n",
    "print(U)\n",
    "print(\"-------\")\n",
    "print(S)\n",
    "print(\"-------\")\n",
    "print(V_T)"
   ]
  },
  {
   "cell_type": "code",
   "execution_count": 4,
   "metadata": {},
   "outputs": [
    {
     "name": "stdout",
     "output_type": "stream",
     "text": [
      "[[152.81745155   0.           0.        ]\n",
      " [  0.          23.36293008   0.        ]]\n"
     ]
    }
   ],
   "source": [
    "S_0 = np.zeros((2, 3), float)\n",
    "np.fill_diagonal(S_0, S)\n",
    "print(S_0)"
   ]
  },
  {
   "cell_type": "code",
   "execution_count": 5,
   "metadata": {},
   "outputs": [
    {
     "name": "stdout",
     "output_type": "stream",
     "text": [
      "[[59. 58. 63.]\n",
      " [69. 82. 40.]]\n"
     ]
    }
   ],
   "source": [
    "A_0 = U.dot(S_0.dot(V_T))\n",
    "print(A_0)"
   ]
  },
  {
   "cell_type": "code",
   "execution_count": 6,
   "metadata": {},
   "outputs": [
    {
     "name": "stdout",
     "output_type": "stream",
     "text": [
      "[[1.00000000e+00 1.07060675e-16]\n",
      " [1.07060675e-16 1.00000000e+00]]\n"
     ]
    }
   ],
   "source": [
    "I = U.dot(U.T)\n",
    "print(I)"
   ]
  },
  {
   "cell_type": "code",
   "execution_count": 7,
   "metadata": {},
   "outputs": [
    {
     "name": "stdout",
     "output_type": "stream",
     "text": [
      "[[ 1.00000000e+00 -7.70632911e-17 -3.31600667e-17]\n",
      " [-7.70632911e-17  1.00000000e+00  3.79040277e-17]\n",
      " [-3.31600667e-17  3.79040277e-17  1.00000000e+00]]\n"
     ]
    }
   ],
   "source": [
    "I = V_T.dot(V_T.T)\n",
    "print(I)"
   ]
  },
  {
   "attachments": {},
   "cell_type": "markdown",
   "metadata": {},
   "source": [
    "## Application\n",
    "### Matrix approximation"
   ]
  },
  {
   "cell_type": "code",
   "execution_count": 8,
   "metadata": {},
   "outputs": [
    {
     "name": "stdout",
     "output_type": "stream",
     "text": [
      "[[152.81745155   0.           0.        ]\n",
      " [  0.           0.           0.        ]]\n"
     ]
    }
   ],
   "source": [
    "S_1 = np.zeros(dim, float)\n",
    "S_1[0][0] = S[0]\n",
    "print(S_1)"
   ]
  },
  {
   "cell_type": "code",
   "execution_count": 9,
   "metadata": {},
   "outputs": [
    {
     "name": "stdout",
     "output_type": "stream",
     "text": [
      "[[60.89113463 66.90861779 48.26404976]\n",
      " [67.28866675 73.93837728 53.33491616]]\n"
     ]
    }
   ],
   "source": [
    "A_1 = U.dot(S_1.dot(V_T))\n",
    "print(A_1)"
   ]
  },
  {
   "cell_type": "code",
   "execution_count": 10,
   "metadata": {},
   "outputs": [
    {
     "name": "stdout",
     "output_type": "stream",
     "text": [
      "[[ 0.          0.          0.        ]\n",
      " [ 0.         23.36293008  0.        ]]\n"
     ]
    }
   ],
   "source": [
    "S_2 = np.zeros(dim, float)\n",
    "S_2[1][1] = S[1]\n",
    "print(S_2)"
   ]
  },
  {
   "cell_type": "code",
   "execution_count": 11,
   "metadata": {},
   "outputs": [
    {
     "name": "stdout",
     "output_type": "stream",
     "text": [
      "[[ -1.89113463  -8.90861779  14.73595024]\n",
      " [  1.71133325   8.06162272 -13.33491616]]\n"
     ]
    }
   ],
   "source": [
    "A_2 = U.dot(S_2.dot(V_T))\n",
    "print(A_2)"
   ]
  },
  {
   "cell_type": "code",
   "execution_count": 12,
   "metadata": {},
   "outputs": [
    {
     "name": "stdout",
     "output_type": "stream",
     "text": [
      "[[59. 58. 63.]\n",
      " [69. 82. 40.]]\n",
      "-------\n",
      "[[60.89113463 66.90861779 48.26404976]\n",
      " [67.28866675 73.93837728 53.33491616]]\n",
      "-------\n",
      "[[ -1.89113463  -8.90861779  14.73595024]\n",
      " [  1.71133325   8.06162272 -13.33491616]]\n",
      "-------\n",
      "[152.81745155  23.36293008]\n",
      "-------\n",
      "[[59. 58. 63.]\n",
      " [69. 82. 40.]]\n"
     ]
    }
   ],
   "source": [
    "A_3 = A_1 + A_2\n",
    "\n",
    "print(A_0)\n",
    "print(\"-------\")\n",
    "print(A_1)\n",
    "print(\"-------\")\n",
    "print(A_2)\n",
    "print(\"-------\")\n",
    "print(S)\n",
    "print(\"-------\")\n",
    "print(A_3)"
   ]
  }
 ],
 "metadata": {
  "kernelspec": {
   "display_name": "Python 3",
   "language": "python",
   "name": "python3"
  },
  "language_info": {
   "codemirror_mode": {
    "name": "ipython",
    "version": 3
   },
   "file_extension": ".py",
   "mimetype": "text/x-python",
   "name": "python",
   "nbconvert_exporter": "python",
   "pygments_lexer": "ipython3",
   "version": "3.10.6"
  },
  "orig_nbformat": 4
 },
 "nbformat": 4,
 "nbformat_minor": 2
}

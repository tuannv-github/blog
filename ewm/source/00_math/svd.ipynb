{
 "cells": [
  {
   "attachments": {},
   "cell_type": "markdown",
   "metadata": {},
   "source": [
    "# Singular value decomposition"
   ]
  },
  {
   "attachments": {},
   "cell_type": "markdown",
   "metadata": {},
   "source": [
    "## Equations\n",
    "\n",
    "\\begin{equation}\n",
    "\\mathbf{A} = \\mathbf{P} \\mathbf{D} \\mathbf{P}^{-1}\n",
    "\\end{equation}\n",
    "\n",
    "\\begin{equation}\n",
    "\\mathbf{AP} = \\mathbf{PD}\n",
    "\\end{equation}\n",
    "\n",
    "\\begin{equation}\n",
    "\\mathbf{Ap}_i = \\mathbf{Pd}_i = d_{ii}\\mathbf{p}_i\n",
    "\\end{equation}\n",
    "\n",
    "\\begin{equation}\n",
    "\\mathbf{Ax} = \\lambda \\mathbf{x}\n",
    "\\end{equation}\n",
    "\n",
    "\\begin{equation}\n",
    "\\mathbf{A}_{m \\times n} = \\mathbf{U}_{m \\times m}\\mathbf{\\Sigma}_{m \\times n} (\\mathbf{V}_{n \\times n})^T\n",
    "\\end{equation}"
   ]
  },
  {
   "attachments": {},
   "cell_type": "markdown",
   "metadata": {},
   "source": [
    "## Example"
   ]
  },
  {
   "cell_type": "code",
   "execution_count": 1,
   "metadata": {},
   "outputs": [],
   "source": [
    "import numpy as np\n",
    "from numpy import linalg"
   ]
  },
  {
   "cell_type": "code",
   "execution_count": 2,
   "metadata": {},
   "outputs": [
    {
     "name": "stdout",
     "output_type": "stream",
     "text": [
      "[[50 90 75]\n",
      " [30 67 15]]\n"
     ]
    }
   ],
   "source": [
    "dim = (2, 3)\n",
    "A = np.random.randint(100, size=dim)\n",
    "print(A)"
   ]
  },
  {
   "cell_type": "code",
   "execution_count": 3,
   "metadata": {},
   "outputs": [
    {
     "name": "stdout",
     "output_type": "stream",
     "text": [
      "-------\n",
      "[[-0.87253108 -0.48855862]\n",
      " [-0.48855862  0.87253108]]\n",
      "-------\n",
      "[145.15928101  27.70889997]\n",
      "-------\n",
      "[[-0.40151282 -0.76647682 -0.50129905]\n",
      " [ 0.06308448  0.52291166 -0.85004926]\n",
      " [-0.91367817  0.37292987  0.16160294]]\n"
     ]
    }
   ],
   "source": [
    "U, S, V_T = linalg.svd(A)\n",
    "print(\"-------\")\n",
    "print(U)\n",
    "print(\"-------\")\n",
    "print(S)\n",
    "print(\"-------\")\n",
    "print(V_T)"
   ]
  },
  {
   "cell_type": "code",
   "execution_count": 4,
   "metadata": {},
   "outputs": [
    {
     "name": "stdout",
     "output_type": "stream",
     "text": [
      "[[145.15928101   0.           0.        ]\n",
      " [  0.          27.70889997   0.        ]]\n"
     ]
    }
   ],
   "source": [
    "S_0 = np.zeros((2, 3), float)\n",
    "np.fill_diagonal(S_0, S)\n",
    "print(S_0)"
   ]
  },
  {
   "cell_type": "code",
   "execution_count": 5,
   "metadata": {},
   "outputs": [
    {
     "name": "stdout",
     "output_type": "stream",
     "text": [
      "[[50. 90. 75.]\n",
      " [30. 67. 15.]]\n"
     ]
    }
   ],
   "source": [
    "A_0 = U.dot(S_0.dot(V_T))\n",
    "print(A_0)"
   ]
  },
  {
   "cell_type": "code",
   "execution_count": 6,
   "metadata": {},
   "outputs": [
    {
     "name": "stdout",
     "output_type": "stream",
     "text": [
      "[[ 1.00000000e+00 -6.75401833e-17]\n",
      " [-6.75401833e-17  1.00000000e+00]]\n"
     ]
    }
   ],
   "source": [
    "I = U.dot(U.T)\n",
    "print(I)"
   ]
  },
  {
   "cell_type": "code",
   "execution_count": 7,
   "metadata": {},
   "outputs": [
    {
     "name": "stdout",
     "output_type": "stream",
     "text": [
      "[[ 1.00000000e+00  9.07618417e-17  1.52580410e-16]\n",
      " [ 9.07618417e-17  1.00000000e+00 -4.81707472e-17]\n",
      " [ 1.52580410e-16 -4.81707472e-17  1.00000000e+00]]\n"
     ]
    }
   ],
   "source": [
    "I = V_T.dot(V_T.T)\n",
    "print(I)"
   ]
  },
  {
   "attachments": {},
   "cell_type": "markdown",
   "metadata": {},
   "source": [
    "## Application\n",
    "### Matrix approximation"
   ]
  },
  {
   "cell_type": "code",
   "execution_count": 8,
   "metadata": {},
   "outputs": [
    {
     "name": "stdout",
     "output_type": "stream",
     "text": [
      "[[145.15928101   0.           0.        ]\n",
      " [  0.           0.           0.        ]]\n"
     ]
    }
   ],
   "source": [
    "S_1 = np.zeros(dim, float)\n",
    "S_1[0][0] = S[0]\n",
    "print(S_1)"
   ]
  },
  {
   "cell_type": "code",
   "execution_count": 9,
   "metadata": {},
   "outputs": [
    {
     "name": "stdout",
     "output_type": "stream",
     "text": [
      "[[50.85400121 97.07887564 63.49252457]\n",
      " [28.47481434 54.35762959 35.5515359 ]]\n"
     ]
    }
   ],
   "source": [
    "A_1 = U.dot(S_1.dot(V_T))\n",
    "print(A_1)"
   ]
  },
  {
   "cell_type": "code",
   "execution_count": 10,
   "metadata": {},
   "outputs": [
    {
     "name": "stdout",
     "output_type": "stream",
     "text": [
      "[[145.15928101   0.           0.        ]\n",
      " [  0.           0.           0.        ]]\n"
     ]
    }
   ],
   "source": [
    "S_2 = np.zeros(dim, float)\n",
    "S_2[1][1] = S[1]\n",
    "print(S_1)"
   ]
  },
  {
   "cell_type": "code",
   "execution_count": 11,
   "metadata": {},
   "outputs": [
    {
     "name": "stdout",
     "output_type": "stream",
     "text": [
      "[[ -0.85400121  -7.07887564  11.50747543]\n",
      " [  1.52518566  12.64237041 -20.5515359 ]]\n"
     ]
    }
   ],
   "source": [
    "A_2 = U.dot(S_2.dot(V_T))\n",
    "print(A_2)"
   ]
  },
  {
   "cell_type": "code",
   "execution_count": 12,
   "metadata": {},
   "outputs": [
    {
     "name": "stdout",
     "output_type": "stream",
     "text": [
      "[[50. 90. 75.]\n",
      " [30. 67. 15.]]\n",
      "-------\n",
      "[[50.85400121 97.07887564 63.49252457]\n",
      " [28.47481434 54.35762959 35.5515359 ]]\n",
      "-------\n",
      "[[ -0.85400121  -7.07887564  11.50747543]\n",
      " [  1.52518566  12.64237041 -20.5515359 ]]\n",
      "-------\n",
      "[145.15928101  27.70889997]\n",
      "-------\n",
      "[[50. 90. 75.]\n",
      " [30. 67. 15.]]\n"
     ]
    }
   ],
   "source": [
    "A_3 = A_1 + A_2\n",
    "\n",
    "print(A_0)\n",
    "print(\"-------\")\n",
    "print(A_1)\n",
    "print(\"-------\")\n",
    "print(A_2)\n",
    "print(\"-------\")\n",
    "print(S)\n",
    "print(\"-------\")\n",
    "print(A_3)"
   ]
  }
 ],
 "metadata": {
  "kernelspec": {
   "display_name": "Python 3",
   "language": "python",
   "name": "python3"
  },
  "language_info": {
   "codemirror_mode": {
    "name": "ipython",
    "version": 3
   },
   "file_extension": ".py",
   "mimetype": "text/x-python",
   "name": "python",
   "nbconvert_exporter": "python",
   "pygments_lexer": "ipython3",
   "version": "3.8.10"
  },
  "orig_nbformat": 4
 },
 "nbformat": 4,
 "nbformat_minor": 2
}
